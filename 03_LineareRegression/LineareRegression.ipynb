{
 "metadata": {
  "language_info": {
   "codemirror_mode": {
    "name": "ipython",
    "version": 3
   },
   "file_extension": ".py",
   "mimetype": "text/x-python",
   "name": "python",
   "nbconvert_exporter": "python",
   "pygments_lexer": "ipython3",
   "version": "3.8.5-final"
  },
  "orig_nbformat": 2,
  "kernelspec": {
   "name": "python3",
   "display_name": "Python 3",
   "language": "python"
  }
 },
 "nbformat": 4,
 "nbformat_minor": 2,
 "cells": [
  {
   "cell_type": "code",
   "execution_count": 1,
   "metadata": {},
   "outputs": [],
   "source": [
    "import pandas as pd\n",
    "import numpy as np\n",
    "from sklearn.datasets import load_boston\n",
    "from sklearn.model_selection import train_test_split\n",
    "import matplotlib.pyplot as plt\n",
    "\n",
    "dataset = load_boston()\n",
    "df = pd.DataFrame(dataset.data, columns=dataset.feature_names)"
   ]
  },
  {
   "cell_type": "code",
   "execution_count": 2,
   "metadata": {},
   "outputs": [
    {
     "output_type": "stream",
     "name": "stdout",
     "text": [
      ".. _boston_dataset:\n\nBoston house prices dataset\n---------------------------\n\n**Data Set Characteristics:**  \n\n    :Number of Instances: 506 \n\n    :Number of Attributes: 13 numeric/categorical predictive. Median Value (attribute 14) is usually the target.\n\n    :Attribute Information (in order):\n        - CRIM     per capita crime rate by town\n        - ZN       proportion of residential land zoned for lots over 25,000 sq.ft.\n        - INDUS    proportion of non-retail business acres per town\n        - CHAS     Charles River dummy variable (= 1 if tract bounds river; 0 otherwise)\n        - NOX      nitric oxides concentration (parts per 10 million)\n        - RM       average number of rooms per dwelling\n        - AGE      proportion of owner-occupied units built prior to 1940\n        - DIS      weighted distances to five Boston employment centres\n        - RAD      index of accessibility to radial highways\n        - TAX      full-value property-tax rate per $10,000\n        - PTRATIO  pupil-teacher ratio by town\n        - B        1000(Bk - 0.63)^2 where Bk is the proportion of blacks by town\n        - LSTAT    % lower status of the population\n        - MEDV     Median value of owner-occupied homes in $1000's\n\n    :Missing Attribute Values: None\n\n    :Creator: Harrison, D. and Rubinfeld, D.L.\n\nThis is a copy of UCI ML housing dataset.\nhttps://archive.ics.uci.edu/ml/machine-learning-databases/housing/\n\n\nThis dataset was taken from the StatLib library which is maintained at Carnegie Mellon University.\n\nThe Boston house-price data of Harrison, D. and Rubinfeld, D.L. 'Hedonic\nprices and the demand for clean air', J. Environ. Economics & Management,\nvol.5, 81-102, 1978.   Used in Belsley, Kuh & Welsch, 'Regression diagnostics\n...', Wiley, 1980.   N.B. Various transformations are used in the table on\npages 244-261 of the latter.\n\nThe Boston house-price data has been used in many machine learning papers that address regression\nproblems.   \n     \n.. topic:: References\n\n   - Belsley, Kuh & Welsch, 'Regression diagnostics: Identifying Influential Data and Sources of Collinearity', Wiley, 1980. 244-261.\n   - Quinlan,R. (1993). Combining Instance-Based and Model-Based Learning. In Proceedings on the Tenth International Conference of Machine Learning, 236-243, University of Massachusetts, Amherst. Morgan Kaufmann.\n\n"
     ]
    }
   ],
   "source": [
    "print(dataset[\"DESCR\"])"
   ]
  },
  {
   "cell_type": "code",
   "execution_count": 3,
   "metadata": {},
   "outputs": [],
   "source": [
    "np.random.seed(42)\n",
    "\n",
    "x = dataset.data[:, 5]\n",
    "y = dataset.target\n",
    "\n",
    "x_train, x_test, y_train, y_test = train_test_split(x, y, test_size=0.3)"
   ]
  },
  {
   "cell_type": "code",
   "execution_count": 4,
   "metadata": {},
   "outputs": [],
   "source": [
    "class SimpleLinearRegression:\n",
    "    def __init__(self):\n",
    "        self.coef_ = None       # steigung der geraden\n",
    "        self.intercept_ = None  # y-achsenabschnitt\n",
    "    \n",
    "    def _compute_coef(self, x: np.ndarray, y: np.ndarray, x_mean: np.ndarray, y_mean: np.ndarray):\n",
    "        zaehler = np.sum(\n",
    "            [(x[i] - x_mean) * (y[i] - y_mean) for i in range(len(x))]\n",
    "        )\n",
    "        nenner = np.sum(\n",
    "            [(x[i] - x_mean) **2 for i in range(len(x))]\n",
    "        )\n",
    "        self.coef_ = zaehler/nenner\n",
    "\n",
    "    def _compute_intercept(self, x_mean: np.ndarray, y_mean: np.ndarray):\n",
    "        #np.dot multiplizert vektoren\n",
    "        self.intercept_ = y_mean - np.dot(self.coef_.T, x_mean)\n",
    "\n",
    "    def fit(self, x: np.ndarray,y: np.ndarray):\n",
    "        x_mean = np.mean(x, axis=0) #axis gibt die dimension an\n",
    "        y_mean = np.mean(y, axis=0)\n",
    "        self._compute_coef(x,y,x_mean,y_mean)\n",
    "        self._compute_intercept(x_mean,y_mean)\n",
    "\n",
    "    def predict(self, x: np.ndarray):\n",
    "        y_pred = np.array(\n",
    "            [np.dot(self.coef_.T, xi) + self.intercept_ for xi in x]\n",
    "        )\n",
    "        return y_pred\n",
    "\n",
    "    def score(self, x: np.ndarray, y: np.ndarray):\n",
    "        y_pred = self.predict(x)\n",
    "        y_mean = np.mean(y, axis=0)\n",
    "        zaehler = np.sum(\n",
    "            [(y[i] - y_pred[i])**2 for i in range (len(y))]\n",
    "        )\n",
    "        nenner = np.sum(\n",
    "            [(y[i] - y_mean)**2 for i in range(len(y))]\n",
    "        )\n",
    "\n",
    "        r2_score = 1.0 - zaehler /nenner\n",
    "        return r2_score"
   ]
  },
  {
   "cell_type": "code",
   "execution_count": 5,
   "metadata": {},
   "outputs": [
    {
     "output_type": "stream",
     "name": "stdout",
     "text": [
      "Coef: 9.118102197303783\nIntercept: -34.66230743840676\nR2Score: 0.4584649934303069\n"
     ]
    }
   ],
   "source": [
    "regr = SimpleLinearRegression()\n",
    "regr.fit(x_train, y_train)\n",
    "r2_score = regr.score(x_test, y_test)\n",
    "\n",
    "print(f\"Coef: {regr.coef_}\")\n",
    "print(f\"Intercept: {regr.intercept_}\")\n",
    "print(f\"R2Score: {r2_score}\") #zwischen 0 und 1 -> je naeher an 1 desto besser"
   ]
  },
  {
   "cell_type": "code",
   "execution_count": 6,
   "metadata": {},
   "outputs": [
    {
     "output_type": "stream",
     "name": "stdout",
     "text": [
      "[[1 2 3]\n [4 5 6]]\n3.5\n[2.5 3.5 4.5]\n[2. 5.]\n"
     ]
    }
   ],
   "source": [
    "#exkurs mean mit axis\n",
    "a = np.array([[1,2,3],[4,5,6]])\n",
    "print(a)\n",
    "print(np.mean(a))           #mittelwert ueber ganzes array\n",
    "print(np.mean(a, axis=0))   #mittelwert der spalten\n",
    "print(np.mean(a, axis=1))   #mittelwert der zeilen"
   ]
  },
  {
   "cell_type": "code",
   "execution_count": null,
   "metadata": {},
   "outputs": [],
   "source": []
  }
 ]
}