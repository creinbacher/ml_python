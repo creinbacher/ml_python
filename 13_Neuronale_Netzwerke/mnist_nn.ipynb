{
 "metadata": {
  "language_info": {
   "codemirror_mode": {
    "name": "ipython",
    "version": 3
   },
   "file_extension": ".py",
   "mimetype": "text/x-python",
   "name": "python",
   "nbconvert_exporter": "python",
   "pygments_lexer": "ipython3",
   "version": "3.8.5-final"
  },
  "orig_nbformat": 2,
  "kernelspec": {
   "name": "python3",
   "display_name": "Python 3.8.5 64-bit (conda)",
   "metadata": {
    "interpreter": {
     "hash": "ab9144a973e6e70fc92935de629ee899f9fa03c1e82568289c1eda6a1704c303"
    }
   }
  }
 },
 "nbformat": 4,
 "nbformat_minor": 2,
 "cells": [
  {
   "cell_type": "code",
   "execution_count": 13,
   "metadata": {},
   "outputs": [],
   "source": [
    "import numpy as np\n",
    "\n",
    "from tensorflow.keras.models import *\n",
    "from tensorflow.keras.layers import *\n",
    "from tensorflow.keras.optimizers import *\n",
    "from tensorflow.keras.losses import *\n",
    "from tensorflow.keras.utils import *\n",
    "\n",
    "from sklearn.datasets import load_digits\n",
    "from sklearn.model_selection import train_test_split"
   ]
  },
  {
   "cell_type": "code",
   "execution_count": 14,
   "metadata": {},
   "outputs": [
    {
     "output_type": "stream",
     "name": "stdout",
     "text": [
      "(1797, 64)\n(1797,)\n[ 0.  0.  5. 13.  9.  1.  0.  0.  0.  0. 13. 15. 10. 15.  5.  0.  0.  3.\n 15.  2.  0. 11.  8.  0.  0.  4. 12.  0.  0.  8.  8.  0.  0.  5.  8.  0.\n  0.  9.  8.  0.  0.  4. 11.  0.  1. 12.  7.  0.  0.  2. 14.  5. 10. 12.\n  0.  0.  0.  0.  6. 13. 10.  0.  0.  0.]\n0\ny before:\n[0 1 2 ... 8 9 8]\ny after:\n[[1. 0. 0. ... 0. 0. 0.]\n [0. 1. 0. ... 0. 0. 0.]\n [0. 0. 1. ... 0. 0. 0.]\n ...\n [0. 0. 0. ... 0. 1. 0.]\n [0. 0. 0. ... 0. 0. 1.]\n [0. 0. 0. ... 0. 1. 0.]]\n"
     ]
    }
   ],
   "source": [
    "dataset = load_digits()\n",
    "x = dataset.data\n",
    "y = dataset.target\n",
    "\n",
    "print(x.shape)\n",
    "print(y.shape)\n",
    "\n",
    "print(x[0])\n",
    "print(y[0])\n",
    "\n",
    "print(f\"y before:\\n{y}\")\n",
    "y = to_categorical(y, num_classes=10)\n",
    "print(f\"y after:\\n{y}\")\n",
    "\n",
    "x_train, x_test, y_train, y_test = train_test_split(x,y)"
   ]
  },
  {
   "cell_type": "code",
   "execution_count": 17,
   "metadata": {},
   "outputs": [
    {
     "output_type": "stream",
     "name": "stdout",
     "text": [
      "Model: \"sequential_2\"\n_________________________________________________________________\nLayer (type)                 Output Shape              Param #   \n=================================================================\ndense_6 (Dense)              (None, 512)               33280     \n_________________________________________________________________\nactivation_6 (Activation)    (None, 512)               0         \n_________________________________________________________________\ndense_7 (Dense)              (None, 256)               131328    \n_________________________________________________________________\nactivation_7 (Activation)    (None, 256)               0         \n_________________________________________________________________\ndense_8 (Dense)              (None, 10)                2570      \n_________________________________________________________________\nactivation_8 (Activation)    (None, 10)                0         \n=================================================================\nTotal params: 167,178\nTrainable params: 167,178\nNon-trainable params: 0\n_________________________________________________________________\n"
     ]
    }
   ],
   "source": [
    "model = Sequential()\n",
    "model.add(Dense(512, input_dim=x.shape[1])) # Input Layer(64 Neurons) to first Hidden Layer (512 Neurons)\n",
    "model.add(Activation(\"relu\"))\n",
    "model.add(Dense(256))\n",
    "model.add(Activation(\"relu\"))\n",
    "model.add(Dense(y.shape[1])) # Last Hidden Layer (256 Neurons) to Output Layer => 10 Neurons\n",
    "model.add(Activation(\"softmax\"))\n",
    "\n",
    "model.summary()"
   ]
  },
  {
   "cell_type": "code",
   "execution_count": 21,
   "metadata": {},
   "outputs": [
    {
     "output_type": "stream",
     "name": "stdout",
     "text": [
      "Epoch 1/45\n",
      "43/43 [==============================] - 0s 4ms/step - loss: 0.0108 - accuracy: 1.0000 - val_loss: 0.0901 - val_accuracy: 0.9733\n",
      "Epoch 2/45\n",
      "43/43 [==============================] - 0s 2ms/step - loss: 0.0107 - accuracy: 1.0000 - val_loss: 0.0898 - val_accuracy: 0.9733\n",
      "Epoch 3/45\n",
      "43/43 [==============================] - 0s 2ms/step - loss: 0.0106 - accuracy: 1.0000 - val_loss: 0.0894 - val_accuracy: 0.9733\n",
      "Epoch 4/45\n",
      "43/43 [==============================] - 0s 1ms/step - loss: 0.0105 - accuracy: 1.0000 - val_loss: 0.0891 - val_accuracy: 0.9733\n",
      "Epoch 5/45\n",
      "43/43 [==============================] - 0s 1ms/step - loss: 0.0105 - accuracy: 1.0000 - val_loss: 0.0888 - val_accuracy: 0.9733\n",
      "Epoch 6/45\n",
      "43/43 [==============================] - 0s 1ms/step - loss: 0.0104 - accuracy: 1.0000 - val_loss: 0.0889 - val_accuracy: 0.9733\n",
      "Epoch 7/45\n",
      "43/43 [==============================] - 0s 2ms/step - loss: 0.0103 - accuracy: 1.0000 - val_loss: 0.0887 - val_accuracy: 0.9733\n",
      "Epoch 8/45\n",
      "43/43 [==============================] - 0s 1ms/step - loss: 0.0103 - accuracy: 1.0000 - val_loss: 0.0886 - val_accuracy: 0.9733\n",
      "Epoch 9/45\n",
      "43/43 [==============================] - 0s 1ms/step - loss: 0.0102 - accuracy: 1.0000 - val_loss: 0.0884 - val_accuracy: 0.9733\n",
      "Epoch 10/45\n",
      "43/43 [==============================] - 0s 1ms/step - loss: 0.0102 - accuracy: 1.0000 - val_loss: 0.0881 - val_accuracy: 0.9733\n",
      "Epoch 11/45\n",
      "43/43 [==============================] - 0s 2ms/step - loss: 0.0101 - accuracy: 1.0000 - val_loss: 0.0879 - val_accuracy: 0.9733\n",
      "Epoch 12/45\n",
      "43/43 [==============================] - 0s 2ms/step - loss: 0.0101 - accuracy: 1.0000 - val_loss: 0.0877 - val_accuracy: 0.9733\n",
      "Epoch 13/45\n",
      "43/43 [==============================] - 0s 2ms/step - loss: 0.0101 - accuracy: 1.0000 - val_loss: 0.0875 - val_accuracy: 0.9733\n",
      "Epoch 14/45\n",
      "43/43 [==============================] - 0s 2ms/step - loss: 0.0100 - accuracy: 1.0000 - val_loss: 0.0874 - val_accuracy: 0.9733\n",
      "Epoch 15/45\n",
      "43/43 [==============================] - 0s 2ms/step - loss: 0.0100 - accuracy: 1.0000 - val_loss: 0.0872 - val_accuracy: 0.9733\n",
      "Epoch 16/45\n",
      "43/43 [==============================] - 0s 1ms/step - loss: 0.0100 - accuracy: 1.0000 - val_loss: 0.0871 - val_accuracy: 0.9733\n",
      "Epoch 17/45\n",
      "43/43 [==============================] - 0s 1ms/step - loss: 0.0100 - accuracy: 1.0000 - val_loss: 0.0869 - val_accuracy: 0.9733\n",
      "Epoch 18/45\n",
      "43/43 [==============================] - 0s 1ms/step - loss: 0.0099 - accuracy: 1.0000 - val_loss: 0.0868 - val_accuracy: 0.9733\n",
      "Epoch 19/45\n",
      "43/43 [==============================] - 0s 2ms/step - loss: 0.0099 - accuracy: 1.0000 - val_loss: 0.0867 - val_accuracy: 0.9733\n",
      "Epoch 20/45\n",
      "43/43 [==============================] - 0s 1ms/step - loss: 0.0099 - accuracy: 1.0000 - val_loss: 0.0865 - val_accuracy: 0.9733\n",
      "Epoch 21/45\n",
      "43/43 [==============================] - 0s 1ms/step - loss: 0.0099 - accuracy: 1.0000 - val_loss: 0.0863 - val_accuracy: 0.9733\n",
      "Epoch 22/45\n",
      "43/43 [==============================] - 0s 1ms/step - loss: 0.0099 - accuracy: 1.0000 - val_loss: 0.0862 - val_accuracy: 0.9733\n",
      "Epoch 23/45\n",
      "43/43 [==============================] - 0s 1ms/step - loss: 0.0098 - accuracy: 1.0000 - val_loss: 0.0861 - val_accuracy: 0.9733\n",
      "Epoch 24/45\n",
      "43/43 [==============================] - 0s 1ms/step - loss: 0.0098 - accuracy: 1.0000 - val_loss: 0.0861 - val_accuracy: 0.9733\n",
      "Epoch 25/45\n",
      "43/43 [==============================] - 0s 1ms/step - loss: 0.0098 - accuracy: 1.0000 - val_loss: 0.0860 - val_accuracy: 0.9733\n",
      "Epoch 26/45\n",
      "43/43 [==============================] - 0s 1ms/step - loss: 0.0098 - accuracy: 1.0000 - val_loss: 0.0859 - val_accuracy: 0.9733\n",
      "Epoch 27/45\n",
      "43/43 [==============================] - 0s 1ms/step - loss: 0.0098 - accuracy: 1.0000 - val_loss: 0.0859 - val_accuracy: 0.9733\n",
      "Epoch 28/45\n",
      "43/43 [==============================] - 0s 1ms/step - loss: 0.0098 - accuracy: 1.0000 - val_loss: 0.0858 - val_accuracy: 0.9733\n",
      "Epoch 29/45\n",
      "43/43 [==============================] - 0s 1ms/step - loss: 0.0098 - accuracy: 1.0000 - val_loss: 0.0857 - val_accuracy: 0.9733\n",
      "Epoch 30/45\n",
      "43/43 [==============================] - 0s 1ms/step - loss: 0.0097 - accuracy: 1.0000 - val_loss: 0.0856 - val_accuracy: 0.9733\n",
      "Epoch 31/45\n",
      "43/43 [==============================] - 0s 1ms/step - loss: 0.0097 - accuracy: 1.0000 - val_loss: 0.0854 - val_accuracy: 0.9733\n",
      "Epoch 32/45\n",
      "43/43 [==============================] - 0s 1ms/step - loss: 0.0097 - accuracy: 1.0000 - val_loss: 0.0853 - val_accuracy: 0.9733\n",
      "Epoch 33/45\n",
      "43/43 [==============================] - 0s 2ms/step - loss: 0.0097 - accuracy: 1.0000 - val_loss: 0.0852 - val_accuracy: 0.9733\n",
      "Epoch 34/45\n",
      "43/43 [==============================] - 0s 1ms/step - loss: 0.0097 - accuracy: 1.0000 - val_loss: 0.0852 - val_accuracy: 0.9733\n",
      "Epoch 35/45\n",
      "43/43 [==============================] - 0s 1ms/step - loss: 0.0097 - accuracy: 1.0000 - val_loss: 0.0852 - val_accuracy: 0.9733\n",
      "Epoch 36/45\n",
      "43/43 [==============================] - 0s 1ms/step - loss: 0.0097 - accuracy: 1.0000 - val_loss: 0.0852 - val_accuracy: 0.9733\n",
      "Epoch 37/45\n",
      "43/43 [==============================] - 0s 2ms/step - loss: 0.0097 - accuracy: 1.0000 - val_loss: 0.0851 - val_accuracy: 0.9733\n",
      "Epoch 38/45\n",
      "43/43 [==============================] - 0s 2ms/step - loss: 0.0097 - accuracy: 1.0000 - val_loss: 0.0851 - val_accuracy: 0.9733\n",
      "Epoch 39/45\n",
      "43/43 [==============================] - 0s 1ms/step - loss: 0.0097 - accuracy: 1.0000 - val_loss: 0.0850 - val_accuracy: 0.9733\n",
      "Epoch 40/45\n",
      "43/43 [==============================] - 0s 2ms/step - loss: 0.0096 - accuracy: 1.0000 - val_loss: 0.0849 - val_accuracy: 0.9733\n",
      "Epoch 41/45\n",
      "43/43 [==============================] - 0s 1ms/step - loss: 0.0096 - accuracy: 1.0000 - val_loss: 0.0849 - val_accuracy: 0.9756\n",
      "Epoch 42/45\n",
      "43/43 [==============================] - 0s 1ms/step - loss: 0.0096 - accuracy: 1.0000 - val_loss: 0.0849 - val_accuracy: 0.9756\n",
      "Epoch 43/45\n",
      "43/43 [==============================] - 0s 1ms/step - loss: 0.0096 - accuracy: 1.0000 - val_loss: 0.0849 - val_accuracy: 0.9756\n",
      "Epoch 44/45\n",
      "43/43 [==============================] - 0s 1ms/step - loss: 0.0096 - accuracy: 1.0000 - val_loss: 0.0849 - val_accuracy: 0.9756\n",
      "Epoch 45/45\n",
      "43/43 [==============================] - 0s 1ms/step - loss: 0.0096 - accuracy: 1.0000 - val_loss: 0.0848 - val_accuracy: 0.9756\n"
     ]
    },
    {
     "output_type": "execute_result",
     "data": {
      "text/plain": [
       "<tensorflow.python.keras.callbacks.History at 0xf6c5ee8e80>"
      ]
     },
     "metadata": {},
     "execution_count": 21
    }
   ],
   "source": [
    "sgd = SGD(lr=0.0001)\n",
    "model.compile(loss=\"categorical_crossentropy\", optimizer=sgd, metrics=[\"accuracy\"])\n",
    "model.fit(x=x_train, y=y_train, epochs=45, validation_data=(x_test, y_test))"
   ]
  },
  {
   "cell_type": "code",
   "execution_count": null,
   "metadata": {},
   "outputs": [],
   "source": []
  }
 ]
}