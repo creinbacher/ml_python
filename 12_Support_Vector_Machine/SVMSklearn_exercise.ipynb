{
 "cells": [
  {
   "cell_type": "code",
   "execution_count": 13,
   "metadata": {},
   "outputs": [],
   "source": [
    "import time\n",
    "import numpy as np\n",
    "np.random.seed(42)\n",
    "import pandas as pd\n",
    "import matplotlib.pyplot as plt\n",
    "\n",
    "from sklearn.svm import SVC\n",
    "from sklearn.metrics import confusion_matrix\n",
    "from sklearn.datasets import load_digits\n",
    "from sklearn.model_selection import GridSearchCV\n",
    "from sklearn.decomposition import PCA\n",
    "from sklearn.preprocessing import StandardScaler\n",
    "from sklearn.model_selection import train_test_split\n",
    "from sklearn.model_selection import cross_val_score\n",
    "from sklearn.model_selection import cross_val_predict\n",
    "from sklearn.model_selection import KFold\n",
    "from joblib import parallel_backend"
   ]
  },
  {
   "cell_type": "code",
   "execution_count": 7,
   "metadata": {
    "scrolled": true
   },
   "outputs": [
    {
     "output_type": "stream",
     "name": "stdout",
     "text": [
      "Num Images: 1797\nNum Pixels: 64\n"
     ]
    }
   ],
   "source": [
    "mnist = load_digits()\n",
    "\n",
    "x = mnist.data.astype(np.float32)\n",
    "y = mnist.target.astype(np.float32)\n",
    "\n",
    "n_samples, n_features = x.shape\n",
    "print(f\"Num Images: {n_samples}\")\n",
    "print(f\"Num Pixels: {n_features}\")"
   ]
  },
  {
   "cell_type": "code",
   "execution_count": 3,
   "metadata": {
    "scrolled": true
   },
   "outputs": [
    {
     "output_type": "display_data",
     "data": {
      "text/plain": "<Figure size 432x288 with 10 Axes>",
      "image/svg+xml": "<?xml version=\"1.0\" encoding=\"utf-8\" standalone=\"no\"?>\r\n<!DOCTYPE svg PUBLIC \"-//W3C//DTD SVG 1.1//EN\"\r\n  \"http://www.w3.org/Graphics/SVG/1.1/DTD/svg11.dtd\">\r\n<!-- Created with matplotlib (https://matplotlib.org/) -->\r\n<svg height=\"205.845899pt\" version=\"1.1\" viewBox=\"0 0 352.017931 205.845899\" width=\"352.017931pt\" xmlns=\"http://www.w3.org/2000/svg\" xmlns:xlink=\"http://www.w3.org/1999/xlink\">\r\n <metadata>\r\n  <rdf:RDF xmlns:cc=\"http://creativecommons.org/ns#\" xmlns:dc=\"http://purl.org/dc/elements/1.1/\" xmlns:rdf=\"http://www.w3.org/1999/02/22-rdf-syntax-ns#\">\r\n   <cc:Work>\r\n    <dc:type rdf:resource=\"http://purl.org/dc/dcmitype/StillImage\"/>\r\n    <dc:date>2021-01-31T09:35:21.214612</dc:date>\r\n    <dc:format>image/svg+xml</dc:format>\r\n    <dc:creator>\r\n     <cc:Agent>\r\n      <dc:title>Matplotlib v3.3.2, https://matplotlib.org/</dc:title>\r\n     </cc:Agent>\r\n    </dc:creator>\r\n   </cc:Work>\r\n  </rdf:RDF>\r\n </metadata>\r\n <defs>\r\n  <style type=\"text/css\">*{stroke-linecap:butt;stroke-linejoin:round;}</style>\r\n </defs>\r\n <g id=\"figure_1\">\r\n  <g id=\"patch_1\">\r\n   <path d=\"M 0 205.845899 \r\nL 352.017931 205.845899 \r\nL 352.017931 0 \r\nL 0 0 \r\nz\r\n\" style=\"fill:none;\"/>\r\n  </g>\r\n  <g id=\"axes_1\">\r\n   <g clip-path=\"url(#p5e02a4452e)\">\r\n    <image height=\"58\" id=\"image0132e09b89\" transform=\"scale(1 -1)translate(0 -58)\" width=\"58\" x=\"7.2\" xlink:href=\"data:image/png;base64,\r\niVBORw0KGgoAAAANSUhEUgAAADoAAAA6CAYAAADhu0ooAAABMUlEQVR4nO2aUY2FMBRE+zZrAAmABJCABSxgAQtgAQkgASyAA5AAElgFd0hKXrKZO+d3QsvJ/ZiU8rnv+w4RDMMA867rzKwsSzMbxzHmdR75+cqq/xCJsiFRNtyIflC9HMdhPlgUBVwY1c80TWa277uZresK90S4mahE2ZAoGxJl4xeFqEfRUSuEEOq6NrOqqqKyvu/hnm3bmpmbiUqUDYmy4UYU1st1XWb2dExDJEliZqi20Ps84WaiEmVDomy4EYX1gmpgnme4MLpkit3zDW4mKlE2JMqGG9Hoetm2DS6MPqxlWWZm6CLpzYnJzUQlyoZE2ZAoG7BHUW+laQoXzvPczNAF1LIsZtY0DdwT4WaiEmVDomy4EYX1gnjzPwE6/p3nGfXcE24mKlE2JMqGG9E/YD9DDJxachcAAAAASUVORK5CYII=\" y=\"-22.042263\"/>\r\n   </g>\r\n   <g id=\"text_1\">\r\n    <!-- Train: 1.0 -->\r\n    <g transform=\"translate(8.199569 16.318125)scale(0.12 -0.12)\">\r\n     <defs>\r\n      <path d=\"M -0.296875 72.90625 \r\nL 61.375 72.90625 \r\nL 61.375 64.59375 \r\nL 35.5 64.59375 \r\nL 35.5 0 \r\nL 25.59375 0 \r\nL 25.59375 64.59375 \r\nL -0.296875 64.59375 \r\nz\r\n\" id=\"DejaVuSans-84\"/>\r\n      <path d=\"M 41.109375 46.296875 \r\nQ 39.59375 47.171875 37.8125 47.578125 \r\nQ 36.03125 48 33.890625 48 \r\nQ 26.265625 48 22.1875 43.046875 \r\nQ 18.109375 38.09375 18.109375 28.8125 \r\nL 18.109375 0 \r\nL 9.078125 0 \r\nL 9.078125 54.6875 \r\nL 18.109375 54.6875 \r\nL 18.109375 46.1875 \r\nQ 20.953125 51.171875 25.484375 53.578125 \r\nQ 30.03125 56 36.53125 56 \r\nQ 37.453125 56 38.578125 55.875 \r\nQ 39.703125 55.765625 41.0625 55.515625 \r\nz\r\n\" id=\"DejaVuSans-114\"/>\r\n      <path d=\"M 34.28125 27.484375 \r\nQ 23.390625 27.484375 19.1875 25 \r\nQ 14.984375 22.515625 14.984375 16.5 \r\nQ 14.984375 11.71875 18.140625 8.90625 \r\nQ 21.296875 6.109375 26.703125 6.109375 \r\nQ 34.1875 6.109375 38.703125 11.40625 \r\nQ 43.21875 16.703125 43.21875 25.484375 \r\nL 43.21875 27.484375 \r\nz\r\nM 52.203125 31.203125 \r\nL 52.203125 0 \r\nL 43.21875 0 \r\nL 43.21875 8.296875 \r\nQ 40.140625 3.328125 35.546875 0.953125 \r\nQ 30.953125 -1.421875 24.3125 -1.421875 \r\nQ 15.921875 -1.421875 10.953125 3.296875 \r\nQ 6 8.015625 6 15.921875 \r\nQ 6 25.140625 12.171875 29.828125 \r\nQ 18.359375 34.515625 30.609375 34.515625 \r\nL 43.21875 34.515625 \r\nL 43.21875 35.40625 \r\nQ 43.21875 41.609375 39.140625 45 \r\nQ 35.0625 48.390625 27.6875 48.390625 \r\nQ 23 48.390625 18.546875 47.265625 \r\nQ 14.109375 46.140625 10.015625 43.890625 \r\nL 10.015625 52.203125 \r\nQ 14.9375 54.109375 19.578125 55.046875 \r\nQ 24.21875 56 28.609375 56 \r\nQ 40.484375 56 46.34375 49.84375 \r\nQ 52.203125 43.703125 52.203125 31.203125 \r\nz\r\n\" id=\"DejaVuSans-97\"/>\r\n      <path d=\"M 9.421875 54.6875 \r\nL 18.40625 54.6875 \r\nL 18.40625 0 \r\nL 9.421875 0 \r\nz\r\nM 9.421875 75.984375 \r\nL 18.40625 75.984375 \r\nL 18.40625 64.59375 \r\nL 9.421875 64.59375 \r\nz\r\n\" id=\"DejaVuSans-105\"/>\r\n      <path d=\"M 54.890625 33.015625 \r\nL 54.890625 0 \r\nL 45.90625 0 \r\nL 45.90625 32.71875 \r\nQ 45.90625 40.484375 42.875 44.328125 \r\nQ 39.84375 48.1875 33.796875 48.1875 \r\nQ 26.515625 48.1875 22.3125 43.546875 \r\nQ 18.109375 38.921875 18.109375 30.90625 \r\nL 18.109375 0 \r\nL 9.078125 0 \r\nL 9.078125 54.6875 \r\nL 18.109375 54.6875 \r\nL 18.109375 46.1875 \r\nQ 21.34375 51.125 25.703125 53.5625 \r\nQ 30.078125 56 35.796875 56 \r\nQ 45.21875 56 50.046875 50.171875 \r\nQ 54.890625 44.34375 54.890625 33.015625 \r\nz\r\n\" id=\"DejaVuSans-110\"/>\r\n      <path d=\"M 11.71875 12.40625 \r\nL 22.015625 12.40625 \r\nL 22.015625 0 \r\nL 11.71875 0 \r\nz\r\nM 11.71875 51.703125 \r\nL 22.015625 51.703125 \r\nL 22.015625 39.3125 \r\nL 11.71875 39.3125 \r\nz\r\n\" id=\"DejaVuSans-58\"/>\r\n      <path id=\"DejaVuSans-32\"/>\r\n      <path d=\"M 12.40625 8.296875 \r\nL 28.515625 8.296875 \r\nL 28.515625 63.921875 \r\nL 10.984375 60.40625 \r\nL 10.984375 69.390625 \r\nL 28.421875 72.90625 \r\nL 38.28125 72.90625 \r\nL 38.28125 8.296875 \r\nL 54.390625 8.296875 \r\nL 54.390625 0 \r\nL 12.40625 0 \r\nz\r\n\" id=\"DejaVuSans-49\"/>\r\n      <path d=\"M 10.6875 12.40625 \r\nL 21 12.40625 \r\nL 21 0 \r\nL 10.6875 0 \r\nz\r\n\" id=\"DejaVuSans-46\"/>\r\n      <path d=\"M 31.78125 66.40625 \r\nQ 24.171875 66.40625 20.328125 58.90625 \r\nQ 16.5 51.421875 16.5 36.375 \r\nQ 16.5 21.390625 20.328125 13.890625 \r\nQ 24.171875 6.390625 31.78125 6.390625 \r\nQ 39.453125 6.390625 43.28125 13.890625 \r\nQ 47.125 21.390625 47.125 36.375 \r\nQ 47.125 51.421875 43.28125 58.90625 \r\nQ 39.453125 66.40625 31.78125 66.40625 \r\nz\r\nM 31.78125 74.21875 \r\nQ 44.046875 74.21875 50.515625 64.515625 \r\nQ 56.984375 54.828125 56.984375 36.375 \r\nQ 56.984375 17.96875 50.515625 8.265625 \r\nQ 44.046875 -1.421875 31.78125 -1.421875 \r\nQ 19.53125 -1.421875 13.0625 8.265625 \r\nQ 6.59375 17.96875 6.59375 36.375 \r\nQ 6.59375 54.828125 13.0625 64.515625 \r\nQ 19.53125 74.21875 31.78125 74.21875 \r\nz\r\n\" id=\"DejaVuSans-48\"/>\r\n     </defs>\r\n     <use xlink:href=\"#DejaVuSans-84\"/>\r\n     <use x=\"46.333984\" xlink:href=\"#DejaVuSans-114\"/>\r\n     <use x=\"87.447266\" xlink:href=\"#DejaVuSans-97\"/>\r\n     <use x=\"148.726562\" xlink:href=\"#DejaVuSans-105\"/>\r\n     <use x=\"176.509766\" xlink:href=\"#DejaVuSans-110\"/>\r\n     <use x=\"239.888672\" xlink:href=\"#DejaVuSans-58\"/>\r\n     <use x=\"273.580078\" xlink:href=\"#DejaVuSans-32\"/>\r\n     <use x=\"305.367188\" xlink:href=\"#DejaVuSans-49\"/>\r\n     <use x=\"368.990234\" xlink:href=\"#DejaVuSans-46\"/>\r\n     <use x=\"400.777344\" xlink:href=\"#DejaVuSans-48\"/>\r\n    </g>\r\n   </g>\r\n  </g>\r\n  <g id=\"axes_2\">\r\n   <g clip-path=\"url(#pc29e3747c6)\">\r\n    <image height=\"58\" id=\"image74acddba76\" transform=\"scale(1 -1)translate(0 -58)\" width=\"58\" x=\"76.468966\" xlink:href=\"data:image/png;base64,\r\niVBORw0KGgoAAAANSUhEUgAAADoAAAA6CAYAAADhu0ooAAAA9UlEQVR4nO2awQ3DIAxFm6oDsAkZISNkg2QURmADWCGbZJRkAnro2UZyy6Hf/12/QDz5YAGeWmvtMYB1XcXsOA4x27ZNzGqt5vM8zSv/DIqiQVE03Ii+rAuv61JzrYVoLMtiWtfDTUUpigZF0aAoGhRFg6JoUBQNN6Lma9oo5nkesq+bilIUDYqi4UZUbS85ZzFLKf34KB9CCEP2dVNRiqJBUTTciE7WGYbzPNVc+yy671vMSilitu9751QybipKUTQoigZF0TC/AvZe67Q+qg1y9PqzFTcVpSgaFEXDjeiwTyZtVjDGKGacBfwSiqJBUTTciL4BmT8q+EYkMGsAAAAASUVORK5CYII=\" y=\"-22.042263\"/>\r\n   </g>\r\n   <g id=\"text_2\">\r\n    <!-- Train: 2.0 -->\r\n    <g transform=\"translate(77.468534 16.318125)scale(0.12 -0.12)\">\r\n     <defs>\r\n      <path d=\"M 19.1875 8.296875 \r\nL 53.609375 8.296875 \r\nL 53.609375 0 \r\nL 7.328125 0 \r\nL 7.328125 8.296875 \r\nQ 12.9375 14.109375 22.625 23.890625 \r\nQ 32.328125 33.6875 34.8125 36.53125 \r\nQ 39.546875 41.84375 41.421875 45.53125 \r\nQ 43.3125 49.21875 43.3125 52.78125 \r\nQ 43.3125 58.59375 39.234375 62.25 \r\nQ 35.15625 65.921875 28.609375 65.921875 \r\nQ 23.96875 65.921875 18.8125 64.3125 \r\nQ 13.671875 62.703125 7.8125 59.421875 \r\nL 7.8125 69.390625 \r\nQ 13.765625 71.78125 18.9375 73 \r\nQ 24.125 74.21875 28.421875 74.21875 \r\nQ 39.75 74.21875 46.484375 68.546875 \r\nQ 53.21875 62.890625 53.21875 53.421875 \r\nQ 53.21875 48.921875 51.53125 44.890625 \r\nQ 49.859375 40.875 45.40625 35.40625 \r\nQ 44.1875 33.984375 37.640625 27.21875 \r\nQ 31.109375 20.453125 19.1875 8.296875 \r\nz\r\n\" id=\"DejaVuSans-50\"/>\r\n     </defs>\r\n     <use xlink:href=\"#DejaVuSans-84\"/>\r\n     <use x=\"46.333984\" xlink:href=\"#DejaVuSans-114\"/>\r\n     <use x=\"87.447266\" xlink:href=\"#DejaVuSans-97\"/>\r\n     <use x=\"148.726562\" xlink:href=\"#DejaVuSans-105\"/>\r\n     <use x=\"176.509766\" xlink:href=\"#DejaVuSans-110\"/>\r\n     <use x=\"239.888672\" xlink:href=\"#DejaVuSans-58\"/>\r\n     <use x=\"273.580078\" xlink:href=\"#DejaVuSans-32\"/>\r\n     <use x=\"305.367188\" xlink:href=\"#DejaVuSans-50\"/>\r\n     <use x=\"368.990234\" xlink:href=\"#DejaVuSans-46\"/>\r\n     <use x=\"400.777344\" xlink:href=\"#DejaVuSans-48\"/>\r\n    </g>\r\n   </g>\r\n  </g>\r\n  <g id=\"axes_3\">\r\n   <g clip-path=\"url(#p21af9ebd42)\">\r\n    <image height=\"58\" id=\"image31d87a9aa8\" transform=\"scale(1 -1)translate(0 -58)\" width=\"58\" x=\"145.737931\" xlink:href=\"data:image/png;base64,\r\niVBORw0KGgoAAAANSUhEUgAAADoAAAA6CAYAAADhu0ooAAABNklEQVR4nO2aQY2EUBBEazZ7BwlIAAc4YCTgACSAAyTgAFCABcYBEnDAKugi+ZO9VPe7Vvjw0ocKnf+67/vGP3Ach5kNw2Bm27aZWdd19J3TNJnZD31SiBBVI0TVcCP6y0JWEW3b0oM/n0/K96BpGjOr6zrpTMDRRENUjRBVI0TVoD06z7OZpfYkACzLYmbv9zv5XIabiYaoGiGqhhvRF9sCXtdlPsg2bgCwrquZneeZlOV5Tt/JcDPREFUjRNVwI0rrhcGqB+D10ve9mbFNHzvzCTcTDVE1QlQNN6LJ9cLuIQC8CtgCbBxHM/vmuoWbiYaoGiGqRoiqkdyj7CIHAFRVZWZZlpkZ2/SxDeETbiYaomqEqBpuROkdBkZZljTf993M2G9aURRpH/SAm4mGqBohqoYb0T/YeFR/kZXFmwAAAABJRU5ErkJggg==\" y=\"-22.042263\"/>\r\n   </g>\r\n   <g id=\"text_3\">\r\n    <!-- Train: 3.0 -->\r\n    <g transform=\"translate(146.7375 16.318125)scale(0.12 -0.12)\">\r\n     <defs>\r\n      <path d=\"M 40.578125 39.3125 \r\nQ 47.65625 37.796875 51.625 33 \r\nQ 55.609375 28.21875 55.609375 21.1875 \r\nQ 55.609375 10.40625 48.1875 4.484375 \r\nQ 40.765625 -1.421875 27.09375 -1.421875 \r\nQ 22.515625 -1.421875 17.65625 -0.515625 \r\nQ 12.796875 0.390625 7.625 2.203125 \r\nL 7.625 11.71875 \r\nQ 11.71875 9.328125 16.59375 8.109375 \r\nQ 21.484375 6.890625 26.8125 6.890625 \r\nQ 36.078125 6.890625 40.9375 10.546875 \r\nQ 45.796875 14.203125 45.796875 21.1875 \r\nQ 45.796875 27.640625 41.28125 31.265625 \r\nQ 36.765625 34.90625 28.71875 34.90625 \r\nL 20.21875 34.90625 \r\nL 20.21875 43.015625 \r\nL 29.109375 43.015625 \r\nQ 36.375 43.015625 40.234375 45.921875 \r\nQ 44.09375 48.828125 44.09375 54.296875 \r\nQ 44.09375 59.90625 40.109375 62.90625 \r\nQ 36.140625 65.921875 28.71875 65.921875 \r\nQ 24.65625 65.921875 20.015625 65.03125 \r\nQ 15.375 64.15625 9.8125 62.3125 \r\nL 9.8125 71.09375 \r\nQ 15.4375 72.65625 20.34375 73.4375 \r\nQ 25.25 74.21875 29.59375 74.21875 \r\nQ 40.828125 74.21875 47.359375 69.109375 \r\nQ 53.90625 64.015625 53.90625 55.328125 \r\nQ 53.90625 49.265625 50.4375 45.09375 \r\nQ 46.96875 40.921875 40.578125 39.3125 \r\nz\r\n\" id=\"DejaVuSans-51\"/>\r\n     </defs>\r\n     <use xlink:href=\"#DejaVuSans-84\"/>\r\n     <use x=\"46.333984\" xlink:href=\"#DejaVuSans-114\"/>\r\n     <use x=\"87.447266\" xlink:href=\"#DejaVuSans-97\"/>\r\n     <use x=\"148.726562\" xlink:href=\"#DejaVuSans-105\"/>\r\n     <use x=\"176.509766\" xlink:href=\"#DejaVuSans-110\"/>\r\n     <use x=\"239.888672\" xlink:href=\"#DejaVuSans-58\"/>\r\n     <use x=\"273.580078\" xlink:href=\"#DejaVuSans-32\"/>\r\n     <use x=\"305.367188\" xlink:href=\"#DejaVuSans-51\"/>\r\n     <use x=\"368.990234\" xlink:href=\"#DejaVuSans-46\"/>\r\n     <use x=\"400.777344\" xlink:href=\"#DejaVuSans-48\"/>\r\n    </g>\r\n   </g>\r\n  </g>\r\n  <g id=\"axes_4\">\r\n   <g clip-path=\"url(#p8a20b288a1)\">\r\n    <image height=\"58\" id=\"imagecfd5c193c5\" transform=\"scale(1 -1)translate(0 -58)\" width=\"58\" x=\"215.006897\" xlink:href=\"data:image/png;base64,\r\niVBORw0KGgoAAAANSUhEUgAAADoAAAA6CAYAAADhu0ooAAABGklEQVR4nO2aUY2FUAxE+zZrAAkECVgAK2ABCSABJKABK2ABCayCO2wm+7PTOb/NLZw0YdIbPs/zPEGwLAusr+vKtI2+7/+8Z0TEF33yn2FRNSyqRhrRb/bgfd+wvm0bdXYYBvaVYPykmahF1bCoGhZVg87ReZ7ph6IcRWtaVVX0M9NM1KJqWFSNNKIf9hbwDRQhXddRPY/jgHUUP2kmalE1LKpGGlF6e7muC9abpinWULzs+16seXv5BRZVw6JqpBGF8YIi5O1TX9d1sXaeJ92XJc1ELaqGRdWwqBowR9EPF2idioiYpqlYG8exWEM3feztYUSiiVpUDYuqkUYUxgv6T+FtnUIRgla4tm1hX5Y0E7WoGhZVI43oD5U7PaIpngaPAAAAAElFTkSuQmCC\" y=\"-22.042263\"/>\r\n   </g>\r\n   <g id=\"text_4\">\r\n    <!-- Train: 4.0 -->\r\n    <g transform=\"translate(216.006466 16.318125)scale(0.12 -0.12)\">\r\n     <defs>\r\n      <path d=\"M 37.796875 64.3125 \r\nL 12.890625 25.390625 \r\nL 37.796875 25.390625 \r\nz\r\nM 35.203125 72.90625 \r\nL 47.609375 72.90625 \r\nL 47.609375 25.390625 \r\nL 58.015625 25.390625 \r\nL 58.015625 17.1875 \r\nL 47.609375 17.1875 \r\nL 47.609375 0 \r\nL 37.796875 0 \r\nL 37.796875 17.1875 \r\nL 4.890625 17.1875 \r\nL 4.890625 26.703125 \r\nz\r\n\" id=\"DejaVuSans-52\"/>\r\n     </defs>\r\n     <use xlink:href=\"#DejaVuSans-84\"/>\r\n     <use x=\"46.333984\" xlink:href=\"#DejaVuSans-114\"/>\r\n     <use x=\"87.447266\" xlink:href=\"#DejaVuSans-97\"/>\r\n     <use x=\"148.726562\" xlink:href=\"#DejaVuSans-105\"/>\r\n     <use x=\"176.509766\" xlink:href=\"#DejaVuSans-110\"/>\r\n     <use x=\"239.888672\" xlink:href=\"#DejaVuSans-58\"/>\r\n     <use x=\"273.580078\" xlink:href=\"#DejaVuSans-32\"/>\r\n     <use x=\"305.367188\" xlink:href=\"#DejaVuSans-52\"/>\r\n     <use x=\"368.990234\" xlink:href=\"#DejaVuSans-46\"/>\r\n     <use x=\"400.777344\" xlink:href=\"#DejaVuSans-48\"/>\r\n    </g>\r\n   </g>\r\n  </g>\r\n  <g id=\"axes_5\">\r\n   <g clip-path=\"url(#p1d074d890a)\">\r\n    <image height=\"58\" id=\"imaged0cb40ce8c\" transform=\"scale(1 -1)translate(0 -58)\" width=\"58\" x=\"284.275862\" xlink:href=\"data:image/png;base64,\r\niVBORw0KGgoAAAANSUhEUgAAADoAAAA6CAYAAADhu0ooAAABLUlEQVR4nO2aQRGEMAxF0529gwRQgAUk4AAcgAQcYAEJOAALOMABoIBVkM9Odzhs8t/1T0vf5JAJbbiu65IH2LZNzfI8V7N5ntWsLMvo87yiV/4ZFLUGRa3hRvT91MbHcahZkiRqNo6jmrG9fAFFrUFRa1DUGgGNacuyqAurqoIbn+epZkVRqNm6rmq27zv8ZpqmauamohS1BkWt4UYUjmlo1ELtQ0Skrms1Q6NYCEHNpmmC32yaRs3cVJSi1qCoNdyIwvaCJpRhGODGfd/HnEfatlUzdHF1h5uKUtQaFLWGG1H4cwyBJhsRfCHUdV3UujuyLFMzNxWlqDUoag2KWiP6sQa60BHBf+TQuIV64S+4qShFrUFRa7gRfewtIGovKHsKNxWlqDUoag03oh+Hs0R6vUGXjgAAAABJRU5ErkJggg==\" y=\"-22.042263\"/>\r\n   </g>\r\n   <g id=\"text_5\">\r\n    <!-- Train: 5.0 -->\r\n    <g transform=\"translate(285.275431 16.318125)scale(0.12 -0.12)\">\r\n     <defs>\r\n      <path d=\"M 10.796875 72.90625 \r\nL 49.515625 72.90625 \r\nL 49.515625 64.59375 \r\nL 19.828125 64.59375 \r\nL 19.828125 46.734375 \r\nQ 21.96875 47.46875 24.109375 47.828125 \r\nQ 26.265625 48.1875 28.421875 48.1875 \r\nQ 40.625 48.1875 47.75 41.5 \r\nQ 54.890625 34.8125 54.890625 23.390625 \r\nQ 54.890625 11.625 47.5625 5.09375 \r\nQ 40.234375 -1.421875 26.90625 -1.421875 \r\nQ 22.3125 -1.421875 17.546875 -0.640625 \r\nQ 12.796875 0.140625 7.71875 1.703125 \r\nL 7.71875 11.625 \r\nQ 12.109375 9.234375 16.796875 8.0625 \r\nQ 21.484375 6.890625 26.703125 6.890625 \r\nQ 35.15625 6.890625 40.078125 11.328125 \r\nQ 45.015625 15.765625 45.015625 23.390625 \r\nQ 45.015625 31 40.078125 35.4375 \r\nQ 35.15625 39.890625 26.703125 39.890625 \r\nQ 22.75 39.890625 18.8125 39.015625 \r\nQ 14.890625 38.140625 10.796875 36.28125 \r\nz\r\n\" id=\"DejaVuSans-53\"/>\r\n     </defs>\r\n     <use xlink:href=\"#DejaVuSans-84\"/>\r\n     <use x=\"46.333984\" xlink:href=\"#DejaVuSans-114\"/>\r\n     <use x=\"87.447266\" xlink:href=\"#DejaVuSans-97\"/>\r\n     <use x=\"148.726562\" xlink:href=\"#DejaVuSans-105\"/>\r\n     <use x=\"176.509766\" xlink:href=\"#DejaVuSans-110\"/>\r\n     <use x=\"239.888672\" xlink:href=\"#DejaVuSans-58\"/>\r\n     <use x=\"273.580078\" xlink:href=\"#DejaVuSans-32\"/>\r\n     <use x=\"305.367188\" xlink:href=\"#DejaVuSans-53\"/>\r\n     <use x=\"368.990234\" xlink:href=\"#DejaVuSans-46\"/>\r\n     <use x=\"400.777344\" xlink:href=\"#DejaVuSans-48\"/>\r\n    </g>\r\n   </g>\r\n  </g>\r\n  <g id=\"axes_6\">\r\n   <g clip-path=\"url(#p7ce32da7db)\">\r\n    <image height=\"58\" id=\"image675f34572b\" transform=\"scale(1 -1)translate(0 -58)\" width=\"58\" x=\"7.2\" xlink:href=\"data:image/png;base64,\r\niVBORw0KGgoAAAANSUhEUgAAADoAAAA6CAYAAADhu0ooAAABJElEQVR4nO2aQQ2EQBAE9y73BwlIAQc4QAJIwAHgAAmgAHCABCSAAk7BzCZD7nE9Xd8Os6nMowPL677vOxhomkbNh2GwjA1VVYnZOI6mmSGE8DY/+WdQFA2KouFG9GWtl2ma1DxNUzFr21bMtm0Ts2VZ1DPzPBczNxulKBoURYOiaJh79AnruopZURRiVte1OrfvezFzs1GKokFRNNyIfn41WKuQfd9NM7MsMz0XgqONUhQNiqLhRtRcL2VZqvk8z6a5XdeJWexiS8PNRimKBkXRcCNqrpfjOMyHJkkiZtqbzXme6lztYsvNRimKBkXRoCga5h6NdZrGdV1ipn091HoyhpuNUhQNiqLhRtRcL7ELH+2/vCe/jFtxs1GKokFRNNyIfgHjvz/QCs8w7gAAAABJRU5ErkJggg==\" y=\"-140.645899\"/>\r\n   </g>\r\n   <g id=\"text_6\">\r\n    <!-- Train: 6.0 -->\r\n    <g transform=\"translate(8.199569 134.921761)scale(0.12 -0.12)\">\r\n     <defs>\r\n      <path d=\"M 33.015625 40.375 \r\nQ 26.375 40.375 22.484375 35.828125 \r\nQ 18.609375 31.296875 18.609375 23.390625 \r\nQ 18.609375 15.53125 22.484375 10.953125 \r\nQ 26.375 6.390625 33.015625 6.390625 \r\nQ 39.65625 6.390625 43.53125 10.953125 \r\nQ 47.40625 15.53125 47.40625 23.390625 \r\nQ 47.40625 31.296875 43.53125 35.828125 \r\nQ 39.65625 40.375 33.015625 40.375 \r\nz\r\nM 52.59375 71.296875 \r\nL 52.59375 62.3125 \r\nQ 48.875 64.0625 45.09375 64.984375 \r\nQ 41.3125 65.921875 37.59375 65.921875 \r\nQ 27.828125 65.921875 22.671875 59.328125 \r\nQ 17.53125 52.734375 16.796875 39.40625 \r\nQ 19.671875 43.65625 24.015625 45.921875 \r\nQ 28.375 48.1875 33.59375 48.1875 \r\nQ 44.578125 48.1875 50.953125 41.515625 \r\nQ 57.328125 34.859375 57.328125 23.390625 \r\nQ 57.328125 12.15625 50.6875 5.359375 \r\nQ 44.046875 -1.421875 33.015625 -1.421875 \r\nQ 20.359375 -1.421875 13.671875 8.265625 \r\nQ 6.984375 17.96875 6.984375 36.375 \r\nQ 6.984375 53.65625 15.1875 63.9375 \r\nQ 23.390625 74.21875 37.203125 74.21875 \r\nQ 40.921875 74.21875 44.703125 73.484375 \r\nQ 48.484375 72.75 52.59375 71.296875 \r\nz\r\n\" id=\"DejaVuSans-54\"/>\r\n     </defs>\r\n     <use xlink:href=\"#DejaVuSans-84\"/>\r\n     <use x=\"46.333984\" xlink:href=\"#DejaVuSans-114\"/>\r\n     <use x=\"87.447266\" xlink:href=\"#DejaVuSans-97\"/>\r\n     <use x=\"148.726562\" xlink:href=\"#DejaVuSans-105\"/>\r\n     <use x=\"176.509766\" xlink:href=\"#DejaVuSans-110\"/>\r\n     <use x=\"239.888672\" xlink:href=\"#DejaVuSans-58\"/>\r\n     <use x=\"273.580078\" xlink:href=\"#DejaVuSans-32\"/>\r\n     <use x=\"305.367188\" xlink:href=\"#DejaVuSans-54\"/>\r\n     <use x=\"368.990234\" xlink:href=\"#DejaVuSans-46\"/>\r\n     <use x=\"400.777344\" xlink:href=\"#DejaVuSans-48\"/>\r\n    </g>\r\n   </g>\r\n  </g>\r\n  <g id=\"axes_7\">\r\n   <g clip-path=\"url(#p9b7e64d030)\">\r\n    <image height=\"58\" id=\"image0050ca2f33\" transform=\"scale(1 -1)translate(0 -58)\" width=\"58\" x=\"76.468966\" xlink:href=\"data:image/png;base64,\r\niVBORw0KGgoAAAANSUhEUgAAADoAAAA6CAYAAADhu0ooAAABEUlEQVR4nO2aUQ2EMBBEl8sJQAISkIADwBEWcIAEJCABHCABFPQU7JAsuZ/Zeb+T0rxswqRNq1JKsQDXdcF8miY3W5bFzbquC33TzKxtWzf7wJVESJQNibKRRvQbXYgqwsxsnmc36/vezbZtc7N1XeGeqheTKB8SZUOibPytRxHnebrZfd9uNgxDeM80E5UoGxJlI41oFb0FrOsa5ujIhGoCZU3TwD0RaSYqUTYkykYa0XC9PP3qUf3s+x7Z8hVpJipRNiTKRhrR8OXY0+nlOA43Q/WCTj1vSDNRibIhUTYkyka4R5/e5Y3j6Gbo0YV69CUSZUOibKQRDd8CPoGejKNn6v+6IUwzUYmyIVE20oj+AAyIQcKYaZ8NAAAAAElFTkSuQmCC\" y=\"-140.645899\"/>\r\n   </g>\r\n   <g id=\"text_7\">\r\n    <!-- Train: 7.0 -->\r\n    <g transform=\"translate(77.468534 134.921761)scale(0.12 -0.12)\">\r\n     <defs>\r\n      <path d=\"M 8.203125 72.90625 \r\nL 55.078125 72.90625 \r\nL 55.078125 68.703125 \r\nL 28.609375 0 \r\nL 18.3125 0 \r\nL 43.21875 64.59375 \r\nL 8.203125 64.59375 \r\nz\r\n\" id=\"DejaVuSans-55\"/>\r\n     </defs>\r\n     <use xlink:href=\"#DejaVuSans-84\"/>\r\n     <use x=\"46.333984\" xlink:href=\"#DejaVuSans-114\"/>\r\n     <use x=\"87.447266\" xlink:href=\"#DejaVuSans-97\"/>\r\n     <use x=\"148.726562\" xlink:href=\"#DejaVuSans-105\"/>\r\n     <use x=\"176.509766\" xlink:href=\"#DejaVuSans-110\"/>\r\n     <use x=\"239.888672\" xlink:href=\"#DejaVuSans-58\"/>\r\n     <use x=\"273.580078\" xlink:href=\"#DejaVuSans-32\"/>\r\n     <use x=\"305.367188\" xlink:href=\"#DejaVuSans-55\"/>\r\n     <use x=\"368.990234\" xlink:href=\"#DejaVuSans-46\"/>\r\n     <use x=\"400.777344\" xlink:href=\"#DejaVuSans-48\"/>\r\n    </g>\r\n   </g>\r\n  </g>\r\n  <g id=\"axes_8\">\r\n   <g clip-path=\"url(#p0996119457)\">\r\n    <image height=\"58\" id=\"image069b13238d\" transform=\"scale(1 -1)translate(0 -58)\" width=\"58\" x=\"145.737931\" xlink:href=\"data:image/png;base64,\r\niVBORw0KGgoAAAANSUhEUgAAADoAAAA6CAYAAADhu0ooAAABFElEQVR4nO2aSw2EQBBEZzbcQQoSkIAEJCABCTgBCVjAARJwMKuga5Im7CbV9a6V+bz0odMMuZRSkoO+72G+LIuZjePoOfIRn5+f+CckyoZE2Qgj2ngXDsMA82mazOy6LjPrus51nxphKipRNiTKhkTZyN4xrbpxzma2bZuZvTXChamoRNmQKBthRGF7QePUPM9w4+M4XBfa993MaqMhIkxFJcqGRNkIIwrbC2oR3vaRUkrrur6yDn15DFNRibIhUTbCiMJHJjQtPJkkEGh6efLhLExFJcqGRNmQKBvuRybvqJUS/o8Q7XvfN9wXjY5hKipRNiTKRhhR97+ANVArQA9U53maWdu27jPDVFSibEiUjTCiX+diSCLTZFXaAAAAAElFTkSuQmCC\" y=\"-140.645899\"/>\r\n   </g>\r\n   <g id=\"text_8\">\r\n    <!-- Train: 8.0 -->\r\n    <g transform=\"translate(146.7375 134.921761)scale(0.12 -0.12)\">\r\n     <defs>\r\n      <path d=\"M 31.78125 34.625 \r\nQ 24.75 34.625 20.71875 30.859375 \r\nQ 16.703125 27.09375 16.703125 20.515625 \r\nQ 16.703125 13.921875 20.71875 10.15625 \r\nQ 24.75 6.390625 31.78125 6.390625 \r\nQ 38.8125 6.390625 42.859375 10.171875 \r\nQ 46.921875 13.96875 46.921875 20.515625 \r\nQ 46.921875 27.09375 42.890625 30.859375 \r\nQ 38.875 34.625 31.78125 34.625 \r\nz\r\nM 21.921875 38.8125 \r\nQ 15.578125 40.375 12.03125 44.71875 \r\nQ 8.5 49.078125 8.5 55.328125 \r\nQ 8.5 64.0625 14.71875 69.140625 \r\nQ 20.953125 74.21875 31.78125 74.21875 \r\nQ 42.671875 74.21875 48.875 69.140625 \r\nQ 55.078125 64.0625 55.078125 55.328125 \r\nQ 55.078125 49.078125 51.53125 44.71875 \r\nQ 48 40.375 41.703125 38.8125 \r\nQ 48.828125 37.15625 52.796875 32.3125 \r\nQ 56.78125 27.484375 56.78125 20.515625 \r\nQ 56.78125 9.90625 50.3125 4.234375 \r\nQ 43.84375 -1.421875 31.78125 -1.421875 \r\nQ 19.734375 -1.421875 13.25 4.234375 \r\nQ 6.78125 9.90625 6.78125 20.515625 \r\nQ 6.78125 27.484375 10.78125 32.3125 \r\nQ 14.796875 37.15625 21.921875 38.8125 \r\nz\r\nM 18.3125 54.390625 \r\nQ 18.3125 48.734375 21.84375 45.5625 \r\nQ 25.390625 42.390625 31.78125 42.390625 \r\nQ 38.140625 42.390625 41.71875 45.5625 \r\nQ 45.3125 48.734375 45.3125 54.390625 \r\nQ 45.3125 60.0625 41.71875 63.234375 \r\nQ 38.140625 66.40625 31.78125 66.40625 \r\nQ 25.390625 66.40625 21.84375 63.234375 \r\nQ 18.3125 60.0625 18.3125 54.390625 \r\nz\r\n\" id=\"DejaVuSans-56\"/>\r\n     </defs>\r\n     <use xlink:href=\"#DejaVuSans-84\"/>\r\n     <use x=\"46.333984\" xlink:href=\"#DejaVuSans-114\"/>\r\n     <use x=\"87.447266\" xlink:href=\"#DejaVuSans-97\"/>\r\n     <use x=\"148.726562\" xlink:href=\"#DejaVuSans-105\"/>\r\n     <use x=\"176.509766\" xlink:href=\"#DejaVuSans-110\"/>\r\n     <use x=\"239.888672\" xlink:href=\"#DejaVuSans-58\"/>\r\n     <use x=\"273.580078\" xlink:href=\"#DejaVuSans-32\"/>\r\n     <use x=\"305.367188\" xlink:href=\"#DejaVuSans-56\"/>\r\n     <use x=\"368.990234\" xlink:href=\"#DejaVuSans-46\"/>\r\n     <use x=\"400.777344\" xlink:href=\"#DejaVuSans-48\"/>\r\n    </g>\r\n   </g>\r\n  </g>\r\n  <g id=\"axes_9\">\r\n   <g clip-path=\"url(#p3d36dd68e7)\">\r\n    <image height=\"58\" id=\"image6c920fb4e3\" transform=\"scale(1 -1)translate(0 -58)\" width=\"58\" x=\"215.006897\" xlink:href=\"data:image/png;base64,\r\niVBORw0KGgoAAAANSUhEUgAAADoAAAA6CAYAAADhu0ooAAABL0lEQVR4nO2aQRGEMBAEc1f3Bwk4ABQADnAAEnAAEpCABRzgBCSAAk7BTqrynJ3+TiWhax9bm/B53/cNCfR9D/N9380syzIza9vWzLZtg2fmeW5mX7iSCImyIVE23Ih+UHu579tcWBQF3Pi6rqSsrmszm+cZnrksi5m5qahE2ZAoGxJl44dC1O+e54Ebr+uatG9ZlmY2jiM8E+GmohJlQ6JsuBGFYxriOA6Yd12Xsm04z9PMYqMhwk1FJcqGRNlwIwqnFwR60InRNI2ZoUemWEtD7cdNRSXKhkTZcCOa3F5i/xMMw5C0FrUtdKkWgtpLCEGifEiUDYmykXwLiMapEOI9zwL1wtiYhnBTUYmyIVE23Igmj2lVVcEctRf0L8I0TUnfE8NNRSXKhkTZcCP6B4ZqS9O1zuq7AAAAAElFTkSuQmCC\" y=\"-140.645899\"/>\r\n   </g>\r\n   <g id=\"text_9\">\r\n    <!-- Train: 9.0 -->\r\n    <g transform=\"translate(216.006466 134.921761)scale(0.12 -0.12)\">\r\n     <defs>\r\n      <path d=\"M 10.984375 1.515625 \r\nL 10.984375 10.5 \r\nQ 14.703125 8.734375 18.5 7.8125 \r\nQ 22.3125 6.890625 25.984375 6.890625 \r\nQ 35.75 6.890625 40.890625 13.453125 \r\nQ 46.046875 20.015625 46.78125 33.40625 \r\nQ 43.953125 29.203125 39.59375 26.953125 \r\nQ 35.25 24.703125 29.984375 24.703125 \r\nQ 19.046875 24.703125 12.671875 31.3125 \r\nQ 6.296875 37.9375 6.296875 49.421875 \r\nQ 6.296875 60.640625 12.9375 67.421875 \r\nQ 19.578125 74.21875 30.609375 74.21875 \r\nQ 43.265625 74.21875 49.921875 64.515625 \r\nQ 56.59375 54.828125 56.59375 36.375 \r\nQ 56.59375 19.140625 48.40625 8.859375 \r\nQ 40.234375 -1.421875 26.421875 -1.421875 \r\nQ 22.703125 -1.421875 18.890625 -0.6875 \r\nQ 15.09375 0.046875 10.984375 1.515625 \r\nz\r\nM 30.609375 32.421875 \r\nQ 37.25 32.421875 41.125 36.953125 \r\nQ 45.015625 41.5 45.015625 49.421875 \r\nQ 45.015625 57.28125 41.125 61.84375 \r\nQ 37.25 66.40625 30.609375 66.40625 \r\nQ 23.96875 66.40625 20.09375 61.84375 \r\nQ 16.21875 57.28125 16.21875 49.421875 \r\nQ 16.21875 41.5 20.09375 36.953125 \r\nQ 23.96875 32.421875 30.609375 32.421875 \r\nz\r\n\" id=\"DejaVuSans-57\"/>\r\n     </defs>\r\n     <use xlink:href=\"#DejaVuSans-84\"/>\r\n     <use x=\"46.333984\" xlink:href=\"#DejaVuSans-114\"/>\r\n     <use x=\"87.447266\" xlink:href=\"#DejaVuSans-97\"/>\r\n     <use x=\"148.726562\" xlink:href=\"#DejaVuSans-105\"/>\r\n     <use x=\"176.509766\" xlink:href=\"#DejaVuSans-110\"/>\r\n     <use x=\"239.888672\" xlink:href=\"#DejaVuSans-58\"/>\r\n     <use x=\"273.580078\" xlink:href=\"#DejaVuSans-32\"/>\r\n     <use x=\"305.367188\" xlink:href=\"#DejaVuSans-57\"/>\r\n     <use x=\"368.990234\" xlink:href=\"#DejaVuSans-46\"/>\r\n     <use x=\"400.777344\" xlink:href=\"#DejaVuSans-48\"/>\r\n    </g>\r\n   </g>\r\n  </g>\r\n  <g id=\"axes_10\">\r\n   <g clip-path=\"url(#p3294b41c93)\">\r\n    <image height=\"58\" id=\"imagedcfe857bea\" transform=\"scale(1 -1)translate(0 -58)\" width=\"58\" x=\"284.275862\" xlink:href=\"data:image/png;base64,\r\niVBORw0KGgoAAAANSUhEUgAAADoAAAA6CAYAAADhu0ooAAABFUlEQVR4nO2aUQ2EQAxEywUhoAAkIAEnIAkJSEACOMABONhT0NnLEj5uOu+3WcpLPyZbqFJKyQqY5xnW9313a/d9u7VlWdxa3/ewJ+JTfPLPkCgbEmUjjGhVGi9PQNGE4mVdV/jcYRjcWpiJSpQNibIhUTZey1F0TUPXLZSx53nCnihnw0xUomxIlI0wonXpwdxG7jgOtzZNk1tD1zQUWTnCTFSibEiUjTCiMF7QxyAUH2Zm13W5tXEc4VmPpmmKzpkFmqhE2ZAoG2FEYbzkllEIFCEoJp70RISZqETZkCgbEmUDfmRCmda27RvvY13XuTVtAX9AomxIlI0wosX/MOQ2eWiDuG1bSctHhJmoRNmQKBthRL9sbFDyP8sUXQAAAABJRU5ErkJggg==\" y=\"-140.645899\"/>\r\n   </g>\r\n   <g id=\"text_10\">\r\n    <!-- Train: 10.0 -->\r\n    <g transform=\"translate(281.457931 134.921761)scale(0.12 -0.12)\">\r\n     <use xlink:href=\"#DejaVuSans-84\"/>\r\n     <use x=\"46.333984\" xlink:href=\"#DejaVuSans-114\"/>\r\n     <use x=\"87.447266\" xlink:href=\"#DejaVuSans-97\"/>\r\n     <use x=\"148.726562\" xlink:href=\"#DejaVuSans-105\"/>\r\n     <use x=\"176.509766\" xlink:href=\"#DejaVuSans-110\"/>\r\n     <use x=\"239.888672\" xlink:href=\"#DejaVuSans-58\"/>\r\n     <use x=\"273.580078\" xlink:href=\"#DejaVuSans-32\"/>\r\n     <use x=\"305.367188\" xlink:href=\"#DejaVuSans-49\"/>\r\n     <use x=\"368.990234\" xlink:href=\"#DejaVuSans-48\"/>\r\n     <use x=\"432.613281\" xlink:href=\"#DejaVuSans-46\"/>\r\n     <use x=\"464.400391\" xlink:href=\"#DejaVuSans-48\"/>\r\n    </g>\r\n   </g>\r\n  </g>\r\n </g>\r\n <defs>\r\n  <clipPath id=\"p5e02a4452e\">\r\n   <rect height=\"57.724138\" width=\"57.724138\" x=\"7.2\" y=\"22.318125\"/>\r\n  </clipPath>\r\n  <clipPath id=\"pc29e3747c6\">\r\n   <rect height=\"57.724138\" width=\"57.724138\" x=\"76.468966\" y=\"22.318125\"/>\r\n  </clipPath>\r\n  <clipPath id=\"p21af9ebd42\">\r\n   <rect height=\"57.724138\" width=\"57.724138\" x=\"145.737931\" y=\"22.318125\"/>\r\n  </clipPath>\r\n  <clipPath id=\"p8a20b288a1\">\r\n   <rect height=\"57.724138\" width=\"57.724138\" x=\"215.006897\" y=\"22.318125\"/>\r\n  </clipPath>\r\n  <clipPath id=\"p1d074d890a\">\r\n   <rect height=\"57.724138\" width=\"57.724138\" x=\"284.275862\" y=\"22.318125\"/>\r\n  </clipPath>\r\n  <clipPath id=\"p7ce32da7db\">\r\n   <rect height=\"57.724138\" width=\"57.724138\" x=\"7.2\" y=\"140.921761\"/>\r\n  </clipPath>\r\n  <clipPath id=\"p9b7e64d030\">\r\n   <rect height=\"57.724138\" width=\"57.724138\" x=\"76.468966\" y=\"140.921761\"/>\r\n  </clipPath>\r\n  <clipPath id=\"p0996119457\">\r\n   <rect height=\"57.724138\" width=\"57.724138\" x=\"145.737931\" y=\"140.921761\"/>\r\n  </clipPath>\r\n  <clipPath id=\"p3d36dd68e7\">\r\n   <rect height=\"57.724138\" width=\"57.724138\" x=\"215.006897\" y=\"140.921761\"/>\r\n  </clipPath>\r\n  <clipPath id=\"p3294b41c93\">\r\n   <rect height=\"57.724138\" width=\"57.724138\" x=\"284.275862\" y=\"140.921761\"/>\r\n  </clipPath>\r\n </defs>\r\n</svg>\r\n",
      "image/png": "[encoded data removed]"
     },
     "metadata": {
      "needs_background": "light"
     }
    }
   ],
   "source": [
    "# Plot random images\n",
    "for index, (image, label) in enumerate(zip(x[:10], y[:10])):\n",
    "    plt.subplot(2, 5, index + 1)\n",
    "    plt.axis('off')\n",
    "    plt.imshow(image.reshape((8, 8)), cmap=plt.cm.gray_r, interpolation='nearest')\n",
    "    plt.title(f'Train: {label + 1}')"
   ]
  },
  {
   "source": [
    "#### Data Preprocessing"
   ],
   "cell_type": "markdown",
   "metadata": {}
  },
  {
   "cell_type": "code",
   "execution_count": 4,
   "metadata": {},
   "outputs": [],
   "source": [
    "x_train, x_test, y_train, y_test = train_test_split(x, y, test_size=0.33)"
   ]
  },
  {
   "cell_type": "code",
   "execution_count": 5,
   "metadata": {},
   "outputs": [],
   "source": [
    "scaler = StandardScaler()\n",
    "scaler.fit(x_train)\n",
    "\n",
    "x_train = scaler.transform(x_train)\n",
    "x_test = scaler.transform(x_test)"
   ]
  },
  {
   "cell_type": "code",
   "execution_count": 17,
   "metadata": {},
   "outputs": [
    {
     "output_type": "stream",
     "name": "stdout",
     "text": [
      "Training done in 6.039306402206421 seconds\n"
     ]
    }
   ],
   "source": [
    "# SVM Gridsearch\n",
    "\n",
    "parameters = {\n",
    "    \"kernel\": [\"rbf\", \"poly\", \"linear\", \"sigmoid\"],\n",
    "    \"gamma\": [0.01, 0.001]\n",
    "}\n",
    "\n",
    "svm = SVC()\n",
    "\n",
    "start_time = time.time()\n",
    "with parallel_backend('threading',n_jobs=-1):\n",
    "    clf = GridSearchCV(svm, parameters, cv=10)\n",
    "clf.fit(x_train, y_train)\n",
    "end_time = time.time()\n",
    "\n",
    "print(f\"Training done in {end_time - start_time} seconds\")\n",
    "\n",
    "y_pred = clf.predict(x_test)\n",
    "score = clf.score(x_test, y_test)"
   ]
  },
  {
   "cell_type": "code",
   "execution_count": 26,
   "metadata": {},
   "outputs": [
    {
     "output_type": "stream",
     "name": "stdout",
     "text": [
      "Score: 0.9713804713804713\nConfusion matrix:\n [[55  0  0  0  0  0  0  0  0  0]\n [ 0 54  1  0  0  0  0  0  0  0]\n [ 0  0 52  0  0  0  0  0  0  0]\n [ 0  0  1 52  0  1  0  0  2  0]\n [ 0  0  0  0 64  0  0  0  0  0]\n [ 0  0  0  0  1 70  1  0  0  1]\n [ 1  0  0  0  0  0 56  0  0  0]\n [ 0  0  0  0  0  0  0 61  0  1]\n [ 0  1  1  1  0  0  0  0 49  0]\n [ 0  0  0  1  0  1  1  1  0 64]]\n"
     ]
    }
   ],
   "source": [
    "# Genauigkeit, confusion matrix\n",
    "print(f\"Score: {score}\")\n",
    "print(f\"Confusion matrix:\\n {confusion_matrix(y_test, y_pred)}\")"
   ]
  },
  {
   "cell_type": "code",
   "execution_count": 21,
   "metadata": {},
   "outputs": [
    {
     "output_type": "stream",
     "name": "stdout",
     "text": [
      "Dimensions vorher: 64\nDimensions nachher: 40\nExplained Variance: 0.95402231\n"
     ]
    }
   ],
   "source": [
    "# PCA - mit 95 prozent varianz\n",
    "\n",
    "pca = PCA(n_components=0.95)\n",
    "pca.fit(x_train)\n",
    "x_train_transformed = pca.transform(x_train)\n",
    "x_test_transformed = pca.transform(x_test)\n",
    "\n",
    "print(f\"Dimensions vorher: {x_train.shape[1]}\")\n",
    "print(f\"Dimensions nachher: {len(pca.components_)}\")\n",
    "print(f\"Explained Variance: {round(sum(pca.explained_variance_ratio_), 8)}\")"
   ]
  },
  {
   "cell_type": "code",
   "execution_count": 25,
   "metadata": {},
   "outputs": [
    {
     "output_type": "stream",
     "name": "stdout",
     "text": [
      "Training done in 3.993922472000122 seconds\n"
     ]
    }
   ],
   "source": [
    "parameters = {\n",
    "    \"kernel\": [\"rbf\", \"poly\", \"linear\", \"sigmoid\"],\n",
    "    \"gamma\": [0.01, 0.001],\n",
    "    \"max_iter\": [1000]\n",
    "}\n",
    "\n",
    "svm = SVC()\n",
    "\n",
    "start_time = time.time()\n",
    "with parallel_backend('threading',n_jobs=-1):\n",
    "    clf = GridSearchCV(svm, parameters, cv=10)\n",
    "clf.fit(x_train_transformed, y_train)\n",
    "end_time = time.time()\n",
    "\n",
    "print(f\"Training done in {end_time - start_time} seconds\")\n",
    "\n",
    "y_pred = clf.predict(x_test_transformed)\n",
    "score = clf.score(x_test_transformed, y_test)"
   ]
  },
  {
   "cell_type": "code",
   "execution_count": 27,
   "metadata": {},
   "outputs": [
    {
     "output_type": "stream",
     "name": "stdout",
     "text": [
      "Score: 0.9713804713804713\nConfusion matrix:\n [[55  0  0  0  0  0  0  0  0  0]\n [ 0 54  1  0  0  0  0  0  0  0]\n [ 0  0 52  0  0  0  0  0  0  0]\n [ 0  0  1 52  0  1  0  0  2  0]\n [ 0  0  0  0 64  0  0  0  0  0]\n [ 0  0  0  0  1 70  1  0  0  1]\n [ 1  0  0  0  0  0 56  0  0  0]\n [ 0  0  0  0  0  0  0 61  0  1]\n [ 0  1  1  1  0  0  0  0 49  0]\n [ 0  0  0  1  0  1  1  1  0 64]]\n"
     ]
    }
   ],
   "source": [
    "print(f\"Score: {score}\")\n",
    "print(f\"Confusion matrix:\\n {confusion_matrix(y_test, y_pred)}\")"
   ]
  },
  {
   "cell_type": "code",
   "execution_count": null,
   "metadata": {},
   "outputs": [],
   "source": []
  }
 ],
 "metadata": {
  "kernelspec": {
   "display_name": "Python 3",
   "language": "python",
   "name": "python3"
  },
  "language_info": {
   "codemirror_mode": {
    "name": "ipython",
    "version": 3
   },
   "file_extension": ".py",
   "mimetype": "text/x-python",
   "name": "python",
   "nbconvert_exporter": "python",
   "pygments_lexer": "ipython3",
   "version": "3.8.5-final"
  }
 },
 "nbformat": 4,
 "nbformat_minor": 2
}