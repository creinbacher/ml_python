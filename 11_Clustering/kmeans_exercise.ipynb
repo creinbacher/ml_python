{
 "metadata": {
  "language_info": {
   "codemirror_mode": {
    "name": "ipython",
    "version": 3
   },
   "file_extension": ".py",
   "mimetype": "text/x-python",
   "name": "python",
   "nbconvert_exporter": "python",
   "pygments_lexer": "ipython3",
   "version": "3.8.5-final"
  },
  "orig_nbformat": 2,
  "kernelspec": {
   "name": "python3",
   "display_name": "Python 3",
   "language": "python"
  }
 },
 "nbformat": 4,
 "nbformat_minor": 2,
 "cells": [
  {
   "cell_type": "code",
   "execution_count": 7,
   "metadata": {},
   "outputs": [],
   "source": [
    "import numpy as np\n",
    "np.random.seed(42)\n",
    "\n",
    "import matplotlib.pyplot as plt\n",
    "from sklearn.datasets import load_iris\n",
    "from sklearn.cluster import KMeans\n",
    "from sklearn.metrics import silhouette_score\n",
    "from plotting import plot"
   ]
  },
  {
   "cell_type": "code",
   "execution_count": 8,
   "metadata": {},
   "outputs": [],
   "source": [
    "dataset = load_iris()\n",
    "x = dataset.data\n",
    "y = dataset.target"
   ]
  },
  {
   "cell_type": "code",
   "execution_count": 14,
   "metadata": {},
   "outputs": [],
   "source": [
    "scores  = []\n",
    "s_scores = []\n",
    "\n",
    "for n_clusters in range(2,11):\n",
    "    max_iter = 10_000\n",
    "\n",
    "    kmeans = KMeans(\n",
    "        n_clusters=n_clusters,\n",
    "        max_iter=max_iter\n",
    "    )\n",
    "    kmeans.fit(x)\n",
    "    y_pred = kmeans.predict(x)\n",
    "    scores.append(kmeans.score(x))\n",
    "    s_scores.append(silhouette_score(x, y_pred))\n"
   ]
  },
  {
   "cell_type": "code",
   "execution_count": 15,
   "metadata": {},
   "outputs": [
    {
     "output_type": "stream",
     "name": "stdout",
     "text": [
      "Scores: [-152.347951760358, -78.85144142614602, -57.228473214285714, -46.44618205128204, -39.286505194805194, -34.40900974025974, -30.303211839759832, -27.861428856231505, -26.291530296329064]\nSilhuette Scores: [0.681046169211746, 0.5528190123564091, 0.4980505049972867, 0.4887488870931048, 0.36598336415829047, 0.34750423280461507, 0.3470495558673689, 0.3459548859609926, 0.31887601208947397]\n"
     ]
    }
   ],
   "source": [
    "print(f\"Scores: {scores}\")\n",
    "print(f\"Silhuette Scores: {s_scores}\")"
   ]
  },
  {
   "cell_type": "code",
   "execution_count": null,
   "metadata": {},
   "outputs": [],
   "source": []
  }
 ]
}