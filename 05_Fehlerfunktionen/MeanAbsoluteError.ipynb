{
 "metadata": {
  "language_info": {
   "codemirror_mode": {
    "name": "ipython",
    "version": 3
   },
   "file_extension": ".py",
   "mimetype": "text/x-python",
   "name": "python",
   "nbconvert_exporter": "python",
   "pygments_lexer": "ipython3",
   "version": "3.8.5-final"
  },
  "orig_nbformat": 2,
  "kernelspec": {
   "name": "python3",
   "display_name": "Python 3",
   "language": "python"
  }
 },
 "nbformat": 4,
 "nbformat_minor": 2,
 "cells": [
  {
   "cell_type": "code",
   "execution_count": 1,
   "metadata": {},
   "outputs": [],
   "source": [
    "import numpy as np\n",
    "np.random.seed(42)\n",
    "\n",
    "import pandas as pandas\n",
    "from sklearn.datasets import load_boston\n",
    "from sklearn.model_selection import train_test_split"
   ]
  },
  {
   "cell_type": "code",
   "execution_count": 2,
   "metadata": {},
   "outputs": [],
   "source": [
    "dataset = load_boston()\n",
    "\n",
    "x = dataset.data\n",
    "y = dataset.target\n",
    "\n",
    "x_train, x_test, y_train, y_test = train_test_split(x, y, test_size=0.3)"
   ]
  },
  {
   "cell_type": "code",
   "execution_count": 3,
   "metadata": {},
   "outputs": [
    {
     "output_type": "stream",
     "name": "stdout",
     "text": [
      "R2-Score: 0.711226005748496\n"
     ]
    }
   ],
   "source": [
    "from sklearn.linear_model import LinearRegression\n",
    "\n",
    "regr = LinearRegression()\n",
    "regr.fit(x_train, y_train)\n",
    "r2_score = regr.score(x_test, y_test)\n",
    "\n",
    "print(f\"R2-Score: {r2_score}\")"
   ]
  },
  {
   "source": [
    "### Mean Absolute Error (MAE)"
   ],
   "cell_type": "markdown",
   "metadata": {}
  },
  {
   "source": [
    "MAE = $\\frac{1}{n} \\sum_{i=1}^{n}|y_i - \\hat{y}_i)|$\n",
    "\n",
    "MAE $\\in [0, \\inf)$\n",
    "\n",
    "MAE => Der Mittelwert der Absolutwerte der einzelnen Abweichungen: je geringer desto besser"
   ],
   "cell_type": "markdown",
   "metadata": {}
  },
  {
   "cell_type": "code",
   "execution_count": 11,
   "metadata": {},
   "outputs": [],
   "source": [
    "def my_mean_absolute_error(y_true, y_pred):\n",
    "    n = len(y_true)\n",
    "    absolute_erros = np.array([np.abs(y_true[i]-y_pred[i]) for i in range(n)])\n",
    "    mean_absolute_errors = np.mean(absolute_erros)\n",
    "    return mean_absolute_errors"
   ]
  },
  {
   "cell_type": "code",
   "execution_count": 12,
   "metadata": {},
   "outputs": [
    {
     "output_type": "execute_result",
     "data": {
      "text/plain": [
       "3.1627098714573783"
      ]
     },
     "metadata": {},
     "execution_count": 12
    }
   ],
   "source": [
    "y_pred_test = regr.predict(x_test)\n",
    "\n",
    "my_mean_absolute_error(y_test, y_pred_test)"
   ]
  },
  {
   "cell_type": "code",
   "execution_count": 6,
   "metadata": {},
   "outputs": [],
   "source": [
    "from sklearn.metrics import mean_absolute_error\n"
   ]
  },
  {
   "cell_type": "code",
   "execution_count": 14,
   "metadata": {},
   "outputs": [],
   "source": [
    "y_pred_test = regr.predict(x_test)\n",
    "\n",
    "mae = mean_absolute_error(y_test, y_pred_test)"
   ]
  },
  {
   "source": [
    "### y-Data"
   ],
   "cell_type": "markdown",
   "metadata": {}
  },
  {
   "cell_type": "code",
   "execution_count": 16,
   "metadata": {},
   "outputs": [
    {
     "output_type": "stream",
     "name": "stdout",
     "text": [
      "22.532806324110677\n84.41955615616556\n9.188011545278203\n5.0\n50.0\n0.14036022970086945\nMittlere Abweichung: 14.036022970086945%\n"
     ]
    }
   ],
   "source": [
    "print(np.mean(y))\n",
    "print(np.var(y))\n",
    "print(np.std(y))\n",
    "print(np.min(y))\n",
    "print(np.max(y))\n",
    "\n",
    "print(f\"Mittlere Abweichung: {mae/np.mean(y)*100}%\")"
   ]
  },
  {
   "cell_type": "code",
   "execution_count": null,
   "metadata": {},
   "outputs": [],
   "source": []
  }
 ]
}