{
 "metadata": {
  "language_info": {
   "codemirror_mode": {
    "name": "ipython",
    "version": 3
   },
   "file_extension": ".py",
   "mimetype": "text/x-python",
   "name": "python",
   "nbconvert_exporter": "python",
   "pygments_lexer": "ipython3",
   "version": "3.8.5-final"
  },
  "orig_nbformat": 2,
  "kernelspec": {
   "name": "python3",
   "display_name": "Python 3",
   "language": "python"
  }
 },
 "nbformat": 4,
 "nbformat_minor": 2,
 "cells": [
  {
   "cell_type": "code",
   "execution_count": 11,
   "metadata": {},
   "outputs": [],
   "source": [
    "import numpy as np\n",
    "from sklearn import datasets\n",
    "\n",
    "np.random.seed(42)\n",
    "\n",
    "iris = datasets.load_iris()\n",
    "\n",
    "#x = iris.data[:,1:3]\n",
    "#x = iris.data[:,:]\n",
    "#x = iris.data[:,:3]\n",
    "#x = iris.data[:,1:4]\n",
    "x = iris.data[:,2:4] # index 2 und 3\n",
    "y = iris.target\n",
    "\n",
    "class_names = iris.target_names\n",
    "description = iris.DESCR"
   ]
  },
  {
   "cell_type": "code",
   "execution_count": 12,
   "metadata": {},
   "outputs": [],
   "source": [
    "num_samples = x.shape[0]\n",
    "num_features = x.shape[1]\n",
    "num_classes = y.shape[0]\n",
    "\n",
    "test_size = num_samples // 3\n",
    "\n",
    "random_idxs = np.random.permutation(num_samples)\n",
    "\n",
    "x_train = x[random_idxs[:-test_size]]\n",
    "y_train = y[random_idxs[:-test_size]]\n",
    "\n",
    "x_test = x[random_idxs[-test_size:]]    \n",
    "y_test = y[random_idxs[-test_size:]]"
   ]
  },
  {
   "cell_type": "code",
   "execution_count": 13,
   "metadata": {},
   "outputs": [
    {
     "output_type": "stream",
     "name": "stdout",
     "text": [
      "Neighbors: 1 Weight: uniform Score: 92.0%\nNeighbors: 1 Weight: distance Score: 92.0%\nNeighbors: 2 Weight: uniform Score: 96.0%\nNeighbors: 2 Weight: distance Score: 92.0%\nNeighbors: 3 Weight: uniform Score: 94.0%\nNeighbors: 3 Weight: distance Score: 92.0%\nNeighbors: 4 Weight: uniform Score: 98.0%\nNeighbors: 4 Weight: distance Score: 92.0%\nNeighbors: 5 Weight: uniform Score: 98.0%\nNeighbors: 5 Weight: distance Score: 96.0%\nNeighbors: 6 Weight: uniform Score: 98.0%\nNeighbors: 6 Weight: distance Score: 96.0%\nNeighbors: 7 Weight: uniform Score: 98.0%\nNeighbors: 7 Weight: distance Score: 96.0%\nNeighbors: 8 Weight: uniform Score: 98.0%\nNeighbors: 8 Weight: distance Score: 96.0%\nNeighbors: 9 Weight: uniform Score: 98.0%\nNeighbors: 9 Weight: distance Score: 96.0%\nNeighbors: 10 Weight: uniform Score: 98.0%\nNeighbors: 10 Weight: distance Score: 96.0%\n"
     ]
    }
   ],
   "source": [
    "from sklearn.neighbors import KNeighborsClassifier\n",
    "\n",
    "n_neighbors = [i for i in range (1,11)]\n",
    "weight_modes = ['uniform', 'distance']\n",
    "\n",
    "#alle permutationen => 10 x 2 => 20 Modelle\n",
    "for n_neighbor in n_neighbors:\n",
    "    for weight_mode in weight_modes:\n",
    "        clf = KNeighborsClassifier(n_neighbors=n_neighbor, weights=weight_mode)\n",
    "        clf.fit(x_train, y_train)\n",
    "        accuracy = clf.score(x_test, y_test)\n",
    "        print(f\"Neighbors: {n_neighbor} Weight: {weight_mode} Score: {accuracy*100.0:.4}%\")"
   ]
  },
  {
   "cell_type": "code",
   "execution_count": 15,
   "metadata": {},
   "outputs": [
    {
     "output_type": "stream",
     "name": "stdout",
     "text": [
      "accuracy :98.0%\ny_pred :\n[0 0 0 1 2 0 2 2 0 1 1 2 1 2 0 2 1 2 1 1 1 0 1 1 0 1 2 2 0 1 2 2 0 2 0 1 2\n 2 1 2 1 1 2 2 0 1 1 0 1 2]\ny_pred_proba :\n[[1.   0.   0.  ]\n [1.   0.   0.  ]\n [1.   0.   0.  ]\n [0.   0.5  0.5 ]\n [0.   0.   1.  ]\n [1.   0.   0.  ]\n [0.   0.   1.  ]\n [0.   0.   1.  ]\n [1.   0.   0.  ]\n [0.   1.   0.  ]\n [0.   1.   0.  ]\n [0.   0.25 0.75]\n [0.   1.   0.  ]\n [0.   0.   1.  ]\n [1.   0.   0.  ]\n [0.   0.   1.  ]\n [0.   1.   0.  ]\n [0.   0.   1.  ]\n [0.   1.   0.  ]\n [0.   1.   0.  ]\n [0.   1.   0.  ]\n [1.   0.   0.  ]\n [0.   1.   0.  ]\n [0.   1.   0.  ]\n [1.   0.   0.  ]\n [0.   1.   0.  ]\n [0.   0.   1.  ]\n [0.   0.   1.  ]\n [1.   0.   0.  ]\n [0.   1.   0.  ]\n [0.   0.   1.  ]\n [0.   0.   1.  ]\n [1.   0.   0.  ]\n [0.   0.   1.  ]\n [1.   0.   0.  ]\n [0.   0.5  0.5 ]\n [0.   0.   1.  ]\n [0.   0.   1.  ]\n [0.   1.   0.  ]\n [0.   0.   1.  ]\n [0.   1.   0.  ]\n [0.   1.   0.  ]\n [0.   0.   1.  ]\n [0.   0.25 0.75]\n [1.   0.   0.  ]\n [0.   1.   0.  ]\n [0.   1.   0.  ]\n [1.   0.   0.  ]\n [0.   1.   0.  ]\n [0.   0.   1.  ]]\n"
     ]
    }
   ],
   "source": [
    "clf = KNeighborsClassifier(n_neighbors=4, weights='uniform')\n",
    "clf.fit(x_train, y_train)\n",
    "\n",
    "accuracy = clf.score(x_test, y_test)\n",
    "print(f\"accuracy :{accuracy*100.0:.4}%\")\n",
    "\n",
    "y_pred = clf.predict(x_test)\n",
    "print(f\"y_pred :\\n{y_pred}\")\n",
    "\n",
    "y_pred_proba = clf.predict_proba(x_test)\n",
    "print(f\"y_pred_proba :\\n{y_pred_proba}\")"
   ]
  },
  {
   "cell_type": "code",
   "execution_count": null,
   "metadata": {},
   "outputs": [],
   "source": []
  }
 ]
}