{
 "metadata": {
  "language_info": {
   "codemirror_mode": {
    "name": "ipython",
    "version": 3
   },
   "file_extension": ".py",
   "mimetype": "text/x-python",
   "name": "python",
   "nbconvert_exporter": "python",
   "pygments_lexer": "ipython3",
   "version": "3.8.5-final"
  },
  "orig_nbformat": 2,
  "kernelspec": {
   "name": "python3",
   "display_name": "Python 3",
   "language": "python"
  }
 },
 "nbformat": 4,
 "nbformat_minor": 2,
 "cells": [
  {
   "cell_type": "code",
   "execution_count": 28,
   "metadata": {},
   "outputs": [],
   "source": [
    "import numpy as np\n",
    "np.random.seed(42)\n",
    "\n",
    "import pandas as pd\n",
    "from sklearn.datasets import load_wine\n",
    "from sklearn.tree import DecisionTreeClassifier\n",
    "from sklearn.ensemble import RandomForestClassifier\n",
    "from sklearn.ensemble import GradientBoostingClassifier\n",
    "from sklearn.model_selection import GridSearchCV\n",
    "from sklearn.model_selection import train_test_split"
   ]
  },
  {
   "cell_type": "code",
   "execution_count": 23,
   "metadata": {},
   "outputs": [],
   "source": [
    "dataset = load_wine()\n",
    "x = dataset.data\n",
    "y = dataset.target"
   ]
  },
  {
   "cell_type": "code",
   "execution_count": 24,
   "metadata": {},
   "outputs": [],
   "source": [
    "x_train, x_test, y_train, y_test = train_test_split(x, y, test_size=0.3)"
   ]
  },
  {
   "source": [
    "### RandomForest Classifier: GridSearchCV"
   ],
   "cell_type": "markdown",
   "metadata": {}
  },
  {
   "cell_type": "code",
   "execution_count": 25,
   "metadata": {},
   "outputs": [
    {
     "output_type": "execute_result",
     "data": {
      "text/plain": [
       "GridSearchCV(cv=10, estimator=RandomForestClassifier(),\n",
       "             param_grid={'criterion': ['gini', 'entropy'],\n",
       "                         'max_depth': [None, 2, 4, 8, 10],\n",
       "                         'n_estimators': [10, 20, 40, 80, 160]})"
      ]
     },
     "metadata": {},
     "execution_count": 25
    }
   ],
   "source": [
    "parameters  = {\n",
    "    'n_estimators': [10, 20, 40, 80, 160],\n",
    "    'criterion' : ['gini', 'entropy'],\n",
    "    'max_depth' : [None, 2, 4, 8, 10]\n",
    "}\n",
    "\n",
    "clf = RandomForestClassifier()\n",
    "grid_cv = GridSearchCV(clf, parameters, cv=10)\n",
    "grid_cv.fit(x_train, y_train)"
   ]
  },
  {
   "cell_type": "code",
   "execution_count": 26,
   "metadata": {},
   "outputs": [
    {
     "output_type": "stream",
     "name": "stdout",
     "text": [
      "Parameters of best model: {'criterion': 'entropy', 'max_depth': 8, 'n_estimators': 20}\nScore of best model: 0.9762820512820513\n"
     ]
    }
   ],
   "source": [
    "print(f\"Parameters of best model: {grid_cv.best_params_}\")\n",
    "print(f\"Score of best model: {grid_cv.best_score_}\")"
   ]
  },
  {
   "source": [
    "### RandomForest Classifier: Train Best Model"
   ],
   "cell_type": "markdown",
   "metadata": {}
  },
  {
   "cell_type": "code",
   "execution_count": 27,
   "metadata": {},
   "outputs": [
    {
     "output_type": "stream",
     "name": "stdout",
     "text": [
      "Accuracy: 0.9629629629629629\n"
     ]
    }
   ],
   "source": [
    "clf = RandomForestClassifier(criterion='entropy', max_depth=8, n_estimators=20)\n",
    "clf.fit(x_train, y_train)\n",
    "score = clf.score(x_test, y_test)\n",
    "\n",
    "print(f\"Accuracy: {score}\")"
   ]
  },
  {
   "source": [
    "### Gradiant Boosting Classifier: Grid Search CV"
   ],
   "cell_type": "markdown",
   "metadata": {}
  },
  {
   "cell_type": "code",
   "execution_count": 30,
   "metadata": {},
   "outputs": [
    {
     "output_type": "execute_result",
     "data": {
      "text/plain": [
       "GridSearchCV(cv=10, estimator=GradientBoostingClassifier(),\n",
       "             param_grid={'criterion': ['mse', 'mae'],\n",
       "                         'loss': ['deviance', 'exponential'],\n",
       "                         'max_depth': [None, 2, 4, 8, 10],\n",
       "                         'n_estimators': [10, 20, 40]})"
      ]
     },
     "metadata": {},
     "execution_count": 30
    }
   ],
   "source": [
    "parameters  = {\n",
    "    'loss': ['deviance', 'exponential'],\n",
    "    'n_estimators': [10, 20, 40 ],\n",
    "    'criterion' : ['mse', 'mae'],\n",
    "    'max_depth' : [None, 2, 4, 8, 10]\n",
    "}\n",
    "\n",
    "clf = GradientBoostingClassifier()\n",
    "grid_cv = GridSearchCV(clf, parameters, cv=10)\n",
    "grid_cv.fit(x_train, y_train)"
   ]
  },
  {
   "cell_type": "code",
   "execution_count": 31,
   "metadata": {},
   "outputs": [
    {
     "output_type": "stream",
     "name": "stdout",
     "text": [
      "Parameters of best model: {'criterion': 'mse', 'loss': 'deviance', 'max_depth': 2, 'n_estimators': 40}\nScore of best model: 0.9435897435897436\n"
     ]
    }
   ],
   "source": [
    "print(f\"Parameters of best model: {grid_cv.best_params_}\")\n",
    "print(f\"Score of best model: {grid_cv.best_score_}\")"
   ]
  },
  {
   "source": [
    "### Gradient Boosting Classifier: Train best Model"
   ],
   "cell_type": "markdown",
   "metadata": {}
  },
  {
   "cell_type": "code",
   "execution_count": 32,
   "metadata": {},
   "outputs": [
    {
     "output_type": "stream",
     "name": "stdout",
     "text": [
      "Accuracy: 0.9629629629629629\n"
     ]
    }
   ],
   "source": [
    "clf = GradientBoostingClassifier(criterion='mse', loss='deviance', max_depth=2, n_estimators=40)\n",
    "clf.fit(x_train, y_train)\n",
    "score = clf.score(x_test, y_test)\n",
    "\n",
    "print(f\"Accuracy: {score}\")"
   ]
  },
  {
   "cell_type": "code",
   "execution_count": null,
   "metadata": {},
   "outputs": [],
   "source": []
  }
 ]
}